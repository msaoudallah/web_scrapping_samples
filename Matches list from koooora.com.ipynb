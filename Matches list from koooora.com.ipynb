{
 "cells": [
  {
   "cell_type": "code",
   "execution_count": null,
   "metadata": {},
   "outputs": [],
   "source": [
    "from selenium import webdriver\n",
    "wd = webdriver.Chrome('chromedriver.exe')\n",
    "wd.get(\"https://www.kooora.com/\")\n",
    "\n",
    "top_matches = wd.find_element_by_class_name(\"liveMatches\")\n",
    "\n",
    "top_matches_list = top_matches.find_elements_by_tag_name(\"tr\")\n",
    "\n",
    "\n",
    "for i in range (len(top_matches_list)):\n",
    "    match_info = top_matches_list[i].text.split('\\n')\n",
    "    \n",
    "    home_team = match_info[0]\n",
    "    match_result_or_day = match_info[1]\n",
    "    match_half_or_time = match_info[2]\n",
    "    away_team = match_info[3]\n",
    "\n",
    "    if \":\" in match_result_or_day :\n",
    "        print(\"match between %s and %s\" %(home_team,away_team))\n",
    "        print(\"match state is %s => %s \" %(match_half_or_time, match_result_or_day ))\n",
    "    \n",
    "    \n",
    "    else :\n",
    "        print(\"match between %s and %s ,  will be at %s at %s clock\" %(home_team,away_team,match_result_or_day,match_half_or_time ))\n",
    "        \n",
    "    if i < len(top_matches_list):\n",
    "        print(\"=============XoXoXoXoXoXoXoXoXoXoXoXo=============\") "
   ]
  }
 ],
 "metadata": {
  "kernelspec": {
   "display_name": "Python 3",
   "language": "python",
   "name": "python3"
  },
  "language_info": {
   "codemirror_mode": {
    "name": "ipython",
    "version": 3
   },
   "file_extension": ".py",
   "mimetype": "text/x-python",
   "name": "python",
   "nbconvert_exporter": "python",
   "pygments_lexer": "ipython3",
   "version": "3.8.5"
  }
 },
 "nbformat": 4,
 "nbformat_minor": 4
}
